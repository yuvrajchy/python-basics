{
  "nbformat": 4,
  "nbformat_minor": 0,
  "metadata": {
    "colab": {
      "provenance": []
    },
    "kernelspec": {
      "name": "python3",
      "display_name": "Python 3"
    },
    "language_info": {
      "name": "python"
    }
  },
  "cells": [
    {
      "cell_type": "markdown",
      "source": [
        "1. What are data structures, and why are they important?\n",
        "- Data structures are ways of organizing and storing data in a computer so that it can be accessed and modified efficiently.\n",
        "- Data structures are important because following:\n",
        "\n",
        "Efficient Data Management: They help organize data so operations like search, insert, update, and delete can be done quickly.\n",
        "\n",
        "Optimized Performance: The right data structure can drastically improve the speed and performance of programs.\n",
        "\n",
        "Real-World Applications:\n",
        "\n",
        "- Search engines use trees and hash tables\n",
        "\n",
        "- Social media apps use graphs to model user connections\n",
        "\n",
        "- Operating systems use queues, stacks, and linked lists"
      ],
      "metadata": {
        "id": "yqtqdDu6crT1"
      }
    },
    {
      "cell_type": "markdown",
      "source": [
        "2.  Explain the difference between mutable and immutable data types with examples.\n",
        "- The difference between mutable and immutable is mutable can be changed after creation Immutable cannot be changed after creation .\n",
        "\n",
        "Example(Mutable)\n",
        "- List\n",
        "- dict(dictionary)\n",
        "- set\n",
        "\n",
        "Example(Immutable)\n",
        "- Int\n",
        "- str(string)\n",
        "- float\n",
        "- tuples\n",
        "\n",
        "3.What are the main differences between lists and tuples in Python?\n",
        "- The main difference between lists and tuples in python is list are mutable it can be modified after creation, but tuples are  immutable it cannot be modified once created.\n",
        "\n",
        "4. Describe how dictionaries store data?\n",
        "- Dictionaries are unordered collections of data and are represented with curly brackets { } . Like lists, dictionaries are mutable(changeable) and indexed. With dictionaries, data is stored in a key:value format.\n",
        "\n",
        "5. Why might you use a set instead of a list in Python?\n",
        "- Sets and lists serve different purposes in Python, leading to situations where one is more suitable than the other. Sets are particularly useful when:\n",
        "- Uniqueness is required\n",
        "- Order is not important\n",
        "- set operations are needed\n",
        "- membership testing is important\n",
        "\n",
        "6. What is a string in Python, and how is it different from a list?\n",
        "- A string in Python is a sequence of characters enclosed in quotes.\n",
        "It’s used to store and manipulate text.\n",
        "\n",
        "| Feature        | **String**                      | **List**                                              |\n",
        "| -------------- | ------------------------------- | ----------------------------------------------------- |\n",
        "| **Content**    | Only characters/text            | Can hold any data types (e.g., int, str, float, etc.) |\n",
        "| **Mutability** | ❌ Immutable (cannot be changed) | ✅ Mutable (can be changed)                            |\n",
        "| **Syntax**     | Enclosed in quotes: `\"text\"`    | Enclosed in brackets: `[1, 2, 3]`                     |\n",
        "| **Use Case**   | Working with text               | Working with collections of data                      |\n",
        "\n",
        "\n",
        "7. How do tuples ensure data integrity in Python?\n",
        "- Tuples ensure data integrity by being immutable — once a tuple is created, its contents cannot be modified, added or removed . This characteristic is crucial for maintaining the consistency and reliability of data, especially in scenarios where data should not be altered after its creation.\n",
        "\n",
        "8. What is a hash table, and how does it relate to dictionaries in Python?\n",
        "- A hash table is a data structure that stores key-value pairs and allows fast access to values using their keys.\n",
        "\n",
        "It works using two main steps:\n",
        "\n",
        "Hashing: A function converts the key into a unique index (a number).\n",
        "\n",
        "Storage: The value is stored at that index in a table (array-like structure).\n",
        "\n",
        "9. Can lists contain different data types in Python?\n",
        "- yes, lists contain different data types in python.Python lists are heterogeneous, meaning they can store a mix of different types of elements — such as integers, strings, floats, other lists, even custom objects\n",
        "\n",
        "10. Explain why strings are immutable in Python.\n",
        "- In Python, strings are immutable, meaning once a string is created, you cannot change its content. This behavior is by design and offers several important benefits.\n",
        "\n",
        "| Reason                         | Explanation                                                              |\n",
        "| ------------------------------ | ------------------------------------------------------------------------ |\n",
        "| ✅ **Safety & Simplicity**      | Prevents accidental changes in code, especially when sharing string data |\n",
        "| ✅ **Hashability**              | Immutable strings can be used as **dictionary keys** or in **sets**      |\n",
        "| ✅ **Performance Optimization** | Python can **reuse** string objects in memory (string interning)         |\n",
        "| ✅ **Thread Safety**            | Immutable objects are safer in **multi-threaded programs**               |\n",
        "\n",
        "\n",
        "11. What advantages do dictionaries offer over lists for certain tasks.\n",
        "\n",
        "- dictionaries offer advantages over lists for certain tasks it is more efficient to use dictionaries for the searching of elements as it can be carried out in a much faster manner. Lists are used when it is important to maintain the order of the elements and dealing with data that may get changed in the future.\n",
        "\n",
        "12. Describe a scenario where using a tuple would be preferable over a list.\n",
        "\n",
        "- Use a tuple when you need to store a fixed collection of values that should not be changed — ensuring data integrity and efficiency.\n",
        "\n",
        "- Real-Life Example: Storing GPS Coordinates\n",
        "Let’s say you’re building an app that tracks location:\n",
        "\n",
        "13. How do sets handle duplicate values in Python.\n",
        "\n",
        "- Sets in Python are designed to store only unique elements. When attempting to add a duplicate value to a set, it is automatically discarded, ensuring that the set maintains its uniqueness property. This behavior is fundamental to the nature of sets as unordered collections of distinct items.\n",
        "\n",
        "14. How does the “in” keyword work differently for lists and dictionaries.\n",
        "\n",
        "- The in keyword is used to check for membership, but its behavior depends on the data structure you're using.The in keyword in Python (and in some other programming languages) is a membership operator used to check if a value is present within a sequence, such as a list, tuple, string, or set. Its behavior can vary depending on the type of data structure being used.\n",
        "\n",
        "15. Can you modify the elements of a tuple? Explain why or why not.\n",
        "\n",
        "- No, you cannot modify the elements of a tuple in Python — tuples are immutable.\n",
        "\n",
        " What Does Immutable Mean?\n",
        "Once a tuple is created:\n",
        "\n",
        "You can’t change its elements\n",
        "\n",
        "You can’t add or remove items\n",
        "\n",
        "You can’t reassign any item inside it\n",
        "\n",
        "16. What is a nested dictionary, and give an example of its use case?\n",
        "\n",
        "- A nested dictionary is a dictionary inside another dictionary.\n",
        "It allows you to organize hierarchical or structured data.\n",
        "\n",
        "\n",
        "| Use Case                  | Description                                          |\n",
        "| ------------------------- | ---------------------------------------------------- |\n",
        "| 📚 **Student Database**   | Store details for each student and their subjects    |\n",
        "| 🏢 **Employee Records**   | Keep personal info and job info in separate sections |\n",
        "| 🌐 **JSON APIs**          | Most APIs return nested data structures              |\n",
        "| 🗺️ **Geographical Data** | Countries → States → Cities                          |\n",
        "\n",
        "\n",
        "17. Describe the time complexity of accessing elements in a dictionary.\n",
        "\n",
        "- In Python, dictionaries are implemented using hash tables, which makes access very fast.\n",
        "\n",
        "- Average Case Time Complexity: O(1)\n",
        "This means:\n",
        "\n",
        "Accessing an element by key is done in constant time\n",
        "\n",
        "It doesn’t depend on the size of the dictionary .\n",
        "\n",
        "18. In what situations are lists preferred over dictionaries.\n",
        "\n",
        "- Though dictionaries are powerful for key-value mapping, lists are better suited for certain scenarios. Here’s when you should choose a list instead of a dictionary:\n",
        "\n",
        "| Situation                      | Why List is Preferred                                                                                                                                               |\n",
        "| ------------------------------ | ------------------------------------------------------------------------------------------------------------------------------------------------------------------- |\n",
        "| **Ordered Data Needed**        | Lists **maintain order** (insertion order) naturally, useful when order matters. Dictionaries maintain order since Python 3.7, but lists are simpler for sequences. |\n",
        "| **Duplicate Elements Allowed** | Lists can contain **duplicates**; dictionaries require unique keys.                                                                                                 |\n",
        "| **Sequential Access**          | When you want to process items in a **specific sequence** using indices (`for i in range(len(list))`).                                                              |\n",
        "| **Index-Based Access**         | Lists support **direct indexing** (`my_list[0]`), dictionaries require keys.                                                                                        |\n",
        "| **Simple Collections**         | For storing a **collection of items** without associated keys (e.g., list of names or numbers).                                                                     |\n",
        "| **Appending/Extending Items**  | Lists offer efficient appending (`list.append()`) and slicing.                                                                                                      |\n",
        "| **Iteration Over Values Only** | When you only care about values, not key-value pairs.                                                                                                               |\n",
        "19. Why are dictionaries considered unordered, and how does that affect data retrieval?\n",
        "\n",
        "- Historically:\n",
        "Before Python 3.7, dictionaries did not maintain any order of keys.\n",
        "This means keys could appear in any order when you loop through them or print the dictionary.\n",
        "\n",
        "- From Python 3.7 Onwards:\n",
        "Dictionaries preserve insertion order as an official language feature.\n",
        "So, they remember the order you added items — but still, they are fundamentally hash-based.\n",
        "\n",
        "20. Explain the difference between a list and a dictionary in terms of data retrieval.\n",
        "\n",
        "- In Python, lists access elements by index, while dictionaries access elements by key. Lists are ordered sequences, so you can get the element at a specific position using an integer index (starting from 0). Dictionaries store data as key-value pairs, so you can retrieve the value associated with a particular key, which can be of various data types.\n"
      ],
      "metadata": {
        "id": "nq9XCp376VYE"
      }
    },
    {
      "cell_type": "markdown",
      "source": [
        "1. Write a code to create a string with your name and print it."
      ],
      "metadata": {
        "id": "TZEFqImwZHEe"
      }
    },
    {
      "cell_type": "code",
      "source": [
        "# Create a string with your name\n",
        "name = \"Yuvraj chaudhary\"\n",
        "\n",
        "# Print the string\n",
        "print(name)\n"
      ],
      "metadata": {
        "colab": {
          "base_uri": "https://localhost:8080/"
        },
        "id": "YJvyLHq2ZQfJ",
        "outputId": "c75a6d6e-a005-4e7c-8ec9-8414cf8c6f04"
      },
      "execution_count": 2,
      "outputs": [
        {
          "output_type": "stream",
          "name": "stdout",
          "text": [
            "Yuvraj chaudhary\n"
          ]
        }
      ]
    },
    {
      "cell_type": "markdown",
      "source": [
        "2. Write a code to find the length of the string \"Hello World\""
      ],
      "metadata": {
        "id": "hse-RhnwZmsA"
      }
    },
    {
      "cell_type": "markdown",
      "source": [],
      "metadata": {
        "id": "44FUmH-TBgco"
      }
    },
    {
      "cell_type": "code",
      "source": [
        "my_string = \"Hello World\"\n",
        "\n",
        "length = len(my_string)\n",
        "\n",
        "print(length)\n",
        "\n"
      ],
      "metadata": {
        "colab": {
          "base_uri": "https://localhost:8080/"
        },
        "id": "gbejECafZxic",
        "outputId": "7dee367f-ac81-4454-8f69-a7b7b684aa1c"
      },
      "execution_count": 3,
      "outputs": [
        {
          "output_type": "stream",
          "name": "stdout",
          "text": [
            "11\n"
          ]
        }
      ]
    },
    {
      "cell_type": "markdown",
      "source": [
        "3. Write a code to slice the first 3 characters from the string \"Python Programming\""
      ],
      "metadata": {
        "id": "g_WIRXXQb_lD"
      }
    },
    {
      "cell_type": "code",
      "source": [
        "my_string = \"Python Programming\"\n",
        "\n",
        "# Slice the first 3 characters\n",
        "first_three = my_string[:3]\n",
        "\n",
        "print(first_three)\n"
      ],
      "metadata": {
        "colab": {
          "base_uri": "https://localhost:8080/"
        },
        "id": "xUgzvOvIbwMA",
        "outputId": "7560fb90-db37-46f5-b574-25c14387bec4"
      },
      "execution_count": 5,
      "outputs": [
        {
          "output_type": "stream",
          "name": "stdout",
          "text": [
            "Pyt\n"
          ]
        }
      ]
    },
    {
      "cell_type": "markdown",
      "source": [
        "4. Write a code to convert the string \"hello\" to uppercase."
      ],
      "metadata": {
        "id": "aN0TPQV2eINQ"
      }
    },
    {
      "cell_type": "code",
      "source": [
        "my_string = \"hello\"\n",
        "upper_string = my_string.upper()\n",
        "\n",
        "print(upper_string)\n"
      ],
      "metadata": {
        "colab": {
          "base_uri": "https://localhost:8080/"
        },
        "id": "jwm348V6eSIT",
        "outputId": "ba151915-ca8d-4118-9d5a-8f7400d81de2"
      },
      "execution_count": 6,
      "outputs": [
        {
          "output_type": "stream",
          "name": "stdout",
          "text": [
            "HELLO\n"
          ]
        }
      ]
    },
    {
      "cell_type": "markdown",
      "source": [],
      "metadata": {
        "id": "3VhgabRiZGI3"
      }
    },
    {
      "cell_type": "markdown",
      "source": [
        "5. Write a code to replace the word \"apple\" with \"orange\" in the string \"I like apple\""
      ],
      "metadata": {
        "id": "I9Y0J85ged6O"
      }
    },
    {
      "cell_type": "markdown",
      "source": [],
      "metadata": {
        "id": "6Vq_xlcD5xWU"
      }
    },
    {
      "cell_type": "code",
      "source": [
        "my_string = \"I like apple\"\n",
        "\n",
        "# Replace \"apple\" with \"orange\"\n",
        "new_string = my_string.replace(\"apple\", \"orange\")\n",
        "\n",
        "print(new_string)\n"
      ],
      "metadata": {
        "colab": {
          "base_uri": "https://localhost:8080/"
        },
        "id": "Ue5H4SXVesKJ",
        "outputId": "c3f79ece-0e57-4f7f-8059-68dfb740df32"
      },
      "execution_count": 7,
      "outputs": [
        {
          "output_type": "stream",
          "name": "stdout",
          "text": [
            "I like orange\n"
          ]
        }
      ]
    },
    {
      "cell_type": "markdown",
      "source": [
        "6. Write a code to create a list with numbers 1 to 5 and print it."
      ],
      "metadata": {
        "id": "SF3pNi0Ee0Yk"
      }
    },
    {
      "cell_type": "code",
      "source": [
        "numbers = [1, 2, 3, 4, 5]\n",
        "\n",
        "print(numbers)\n"
      ],
      "metadata": {
        "colab": {
          "base_uri": "https://localhost:8080/"
        },
        "id": "Eu3-E5odew0i",
        "outputId": "d6e084b5-6e20-4542-8a3b-0043dea61210"
      },
      "execution_count": 8,
      "outputs": [
        {
          "output_type": "stream",
          "name": "stdout",
          "text": [
            "[1, 2, 3, 4, 5]\n"
          ]
        }
      ]
    },
    {
      "cell_type": "markdown",
      "source": [
        "7. Write a code to append the number 10 to the list [1, 2, 3, 4]"
      ],
      "metadata": {
        "id": "B1Qno14MfK20"
      }
    },
    {
      "cell_type": "code",
      "source": [
        "numbers = [1, 2, 3, 4]\n",
        "\n",
        "numbers.append(10)\n",
        "print(numbers)\n"
      ],
      "metadata": {
        "colab": {
          "base_uri": "https://localhost:8080/"
        },
        "id": "gXOf6aJKe_H_",
        "outputId": "1d19bc7b-fad7-4331-bcdf-032251dc5f5b"
      },
      "execution_count": 9,
      "outputs": [
        {
          "output_type": "stream",
          "name": "stdout",
          "text": [
            "[1, 2, 3, 4, 10]\n"
          ]
        }
      ]
    },
    {
      "cell_type": "markdown",
      "source": [
        "8. Write a code to remove the number 3 from the list [1, 2, 3, 4, 5]"
      ],
      "metadata": {
        "id": "H1IN4-bjfeMw"
      }
    },
    {
      "cell_type": "code",
      "source": [
        "numbers = [1, 2, 3, 4, 5]\n",
        "numbers.remove(3)\n",
        "\n",
        "print(numbers)\n"
      ],
      "metadata": {
        "colab": {
          "base_uri": "https://localhost:8080/"
        },
        "id": "5VwU-eOFfZ30",
        "outputId": "863caada-c7db-44dc-8a32-dfa49850af10"
      },
      "execution_count": 10,
      "outputs": [
        {
          "output_type": "stream",
          "name": "stdout",
          "text": [
            "[1, 2, 4, 5]\n"
          ]
        }
      ]
    },
    {
      "cell_type": "markdown",
      "source": [
        "9. Write a code to access the second element in the list ['a', 'b', 'c', 'd']"
      ],
      "metadata": {
        "id": "UiE3uKdOftek"
      }
    },
    {
      "cell_type": "code",
      "source": [
        "letters = ['a', 'b', 'c', 'd']\n",
        "second_element = letters[1]\n",
        "\n",
        "print(1)\n"
      ],
      "metadata": {
        "colab": {
          "base_uri": "https://localhost:8080/"
        },
        "id": "CDim8DRhfr6e",
        "outputId": "85a19132-9fa4-4777-e828-17abf97dc2f0"
      },
      "execution_count": 12,
      "outputs": [
        {
          "output_type": "stream",
          "name": "stdout",
          "text": [
            "1\n"
          ]
        }
      ]
    },
    {
      "cell_type": "markdown",
      "source": [
        " 10. Write a code to reverse the list [10, 20, 30, 40, 50]"
      ],
      "metadata": {
        "id": "F5rRXc0ggisU"
      }
    },
    {
      "cell_type": "markdown",
      "source": [],
      "metadata": {
        "id": "gXhhB7BAgIsU"
      }
    },
    {
      "cell_type": "code",
      "source": [
        "numbers = [10, 20, 30, 40, 50]\n",
        "numbers.reverse()\n",
        "\n",
        "print(numbers)"
      ],
      "metadata": {
        "colab": {
          "base_uri": "https://localhost:8080/"
        },
        "id": "1H7H9sF5f-6X",
        "outputId": "949aa125-4ab3-477a-bcb2-cb0d8e44488d"
      },
      "execution_count": 13,
      "outputs": [
        {
          "output_type": "stream",
          "name": "stdout",
          "text": [
            "[50, 40, 30, 20, 10]\n"
          ]
        }
      ]
    },
    {
      "cell_type": "markdown",
      "source": [
        "11.  Write a code to create a tuple with the elements 100, 200, 300 and print it."
      ],
      "metadata": {
        "id": "zXNyMKhngthe"
      }
    },
    {
      "cell_type": "code",
      "source": [
        "my_tuple = (100, 200, 300)\n",
        "print(my_tuple)\n"
      ],
      "metadata": {
        "colab": {
          "base_uri": "https://localhost:8080/"
        },
        "id": "noQC-c59g2aB",
        "outputId": "c2124275-4e83-4a2c-9091-a6db18c7f63d"
      },
      "execution_count": 14,
      "outputs": [
        {
          "output_type": "stream",
          "name": "stdout",
          "text": [
            "(100, 200, 300)\n"
          ]
        }
      ]
    },
    {
      "cell_type": "markdown",
      "source": [
        "12. Write a code to access the second-to-last element of the tuple ('red', 'green', 'blue', 'yellow')"
      ],
      "metadata": {
        "id": "7BY6w4wQg-zz"
      }
    },
    {
      "cell_type": "code",
      "source": [
        "colors = ('red', 'green', 'blue', 'yellow')\n",
        "second_to_last = colors[-2]\n",
        "\n",
        "print(second_to_last)\n"
      ],
      "metadata": {
        "colab": {
          "base_uri": "https://localhost:8080/"
        },
        "id": "tkdE27a0g8oV",
        "outputId": "4055b46a-291a-4c85-999a-c5581847438e"
      },
      "execution_count": 15,
      "outputs": [
        {
          "output_type": "stream",
          "name": "stdout",
          "text": [
            "blue\n"
          ]
        }
      ]
    },
    {
      "cell_type": "markdown",
      "source": [
        "13.  Write a code to find the minimum number in the tuple (10, 20, 5, 15)"
      ],
      "metadata": {
        "id": "o5_G0CMzhYvi"
      }
    },
    {
      "cell_type": "code",
      "source": [
        "numbers = (10, 20, 5, 15)\n",
        "min_number = min(numbers)\n",
        "\n",
        "print(min_number)\n"
      ],
      "metadata": {
        "colab": {
          "base_uri": "https://localhost:8080/"
        },
        "id": "pH98TnXOhUiU",
        "outputId": "59885ea2-3b1e-4b3e-a5c2-dd00c8eac14e"
      },
      "execution_count": 16,
      "outputs": [
        {
          "output_type": "stream",
          "name": "stdout",
          "text": [
            "5\n"
          ]
        }
      ]
    },
    {
      "cell_type": "markdown",
      "source": [
        "14. Write a code to find the index of the element \"cat\" in the tuple ('dog', 'cat', 'rabbit')."
      ],
      "metadata": {
        "id": "Oyenhg5khpXH"
      }
    },
    {
      "cell_type": "code",
      "source": [
        "animals = ('dog', 'cat', 'rabbit')\n",
        "index_cat = animals.index('cat')\n",
        "\n",
        "print(index_cat)\n"
      ],
      "metadata": {
        "colab": {
          "base_uri": "https://localhost:8080/"
        },
        "id": "bu92EnzuhiSQ",
        "outputId": "6ef6b6c3-4a64-4afc-999f-212bb2e80d75"
      },
      "execution_count": 17,
      "outputs": [
        {
          "output_type": "stream",
          "name": "stdout",
          "text": [
            "1\n"
          ]
        }
      ]
    },
    {
      "cell_type": "markdown",
      "source": [
        "15.  Write a code to create a tuple containing three different fruits and check if \"kiwi\" is in it."
      ],
      "metadata": {
        "id": "vvtCu6bFh3kT"
      }
    },
    {
      "cell_type": "code",
      "source": [
        "fruits = (\"apple\", \"banana\", \"orange\")\n",
        "is_kiwi_present = \"kiwi\" in fruits\n",
        "\n",
        "print(is_kiwi_present)\n"
      ],
      "metadata": {
        "colab": {
          "base_uri": "https://localhost:8080/"
        },
        "id": "88g5S9cUh0VM",
        "outputId": "624f4f93-c6a0-423b-b2ba-b96b3f2e990b"
      },
      "execution_count": 18,
      "outputs": [
        {
          "output_type": "stream",
          "name": "stdout",
          "text": [
            "False\n"
          ]
        }
      ]
    },
    {
      "cell_type": "markdown",
      "source": [
        "16.  Write a code to create a set with the elements 'a', 'b', 'c' and print it."
      ],
      "metadata": {
        "id": "ZqI8CX0SiEiX"
      }
    },
    {
      "cell_type": "code",
      "source": [
        "my_set = {'a', 'b', 'c'}\n",
        "\n",
        "print(my_set)\n"
      ],
      "metadata": {
        "colab": {
          "base_uri": "https://localhost:8080/"
        },
        "id": "ZCMNLNbZiAY0",
        "outputId": "a465b9d0-d4d7-42ab-e676-061d1d2cd9df"
      },
      "execution_count": 19,
      "outputs": [
        {
          "output_type": "stream",
          "name": "stdout",
          "text": [
            "{'b', 'a', 'c'}\n"
          ]
        }
      ]
    },
    {
      "cell_type": "markdown",
      "source": [
        "17. Write a code to clear all elements from the set {1, 2, 3, 4, 5}"
      ],
      "metadata": {
        "id": "_616UC4bibVH"
      }
    },
    {
      "cell_type": "code",
      "source": [
        "my_set = {1, 2, 3, 4, 5}\n",
        "my_set.clear()\n",
        "\n",
        "print(my_set)\n"
      ],
      "metadata": {
        "colab": {
          "base_uri": "https://localhost:8080/"
        },
        "id": "KYYe7NqmiQIU",
        "outputId": "43178480-d229-4d7c-c07c-0f0513511a5a"
      },
      "execution_count": 20,
      "outputs": [
        {
          "output_type": "stream",
          "name": "stdout",
          "text": [
            "set()\n"
          ]
        }
      ]
    },
    {
      "cell_type": "markdown",
      "source": [
        "18.  Write a code to remove the element 4 from the set {1, 2, 3, 4}."
      ],
      "metadata": {
        "id": "g0HmLvVxitYy"
      }
    },
    {
      "cell_type": "code",
      "source": [
        "my_set = {1, 2, 3, 4}\n",
        "my_set.remove(4)\n",
        "\n",
        "print(my_set)\n"
      ],
      "metadata": {
        "colab": {
          "base_uri": "https://localhost:8080/"
        },
        "id": "PyI_3WjQisNR",
        "outputId": "aec5d9ba-f966-4426-e0a2-cac18cad7040"
      },
      "execution_count": 21,
      "outputs": [
        {
          "output_type": "stream",
          "name": "stdout",
          "text": [
            "{1, 2, 3}\n"
          ]
        }
      ]
    },
    {
      "cell_type": "markdown",
      "source": [
        "19. Write a code to find the union of two sets {1, 2, 3} and {3, 4, 5}."
      ],
      "metadata": {
        "id": "zMpH3Hxni_1o"
      }
    },
    {
      "cell_type": "code",
      "source": [
        "set1 = {1, 2, 3}\n",
        "set2 = {3, 4, 5}\n",
        "\n",
        "union_set = set1.union(set2)\n",
        "\n",
        "print(union_set)\n"
      ],
      "metadata": {
        "colab": {
          "base_uri": "https://localhost:8080/"
        },
        "id": "CLLgNMeYi7wq",
        "outputId": "e42555bb-bed2-4cdd-cd71-58f58d4f51a6"
      },
      "execution_count": 22,
      "outputs": [
        {
          "output_type": "stream",
          "name": "stdout",
          "text": [
            "{1, 2, 3, 4, 5}\n"
          ]
        }
      ]
    },
    {
      "cell_type": "markdown",
      "source": [
        "20. Write a code to find the intersection of two sets {1, 2, 3} and {2, 3, 4}"
      ],
      "metadata": {
        "id": "wbAR4rznjPTW"
      }
    },
    {
      "cell_type": "code",
      "source": [
        "set1 = {1, 2, 3}\n",
        "set2 = {2, 3, 4}\n",
        "\n",
        "intersection_set = set1.intersection(set2)\n",
        "\n",
        "print(intersection_set)\n"
      ],
      "metadata": {
        "colab": {
          "base_uri": "https://localhost:8080/"
        },
        "id": "c_kuflxzjKb9",
        "outputId": "d8580eb9-6f1d-481b-b60e-0e69538e7f24"
      },
      "execution_count": 23,
      "outputs": [
        {
          "output_type": "stream",
          "name": "stdout",
          "text": [
            "{2, 3}\n"
          ]
        }
      ]
    },
    {
      "cell_type": "markdown",
      "source": [
        "21. Write a code to create a dictionary with the keys \"name\", \"age\", and \"city\", and print it."
      ],
      "metadata": {
        "id": "6EoD1cJOjfUq"
      }
    },
    {
      "cell_type": "code",
      "source": [
        "person = {\n",
        "    \"name\": \"John\",\n",
        "    \"age\": 25,\n",
        "    \"city\": \"New York\"\n",
        "}\n",
        "\n",
        "print(person)\n"
      ],
      "metadata": {
        "colab": {
          "base_uri": "https://localhost:8080/"
        },
        "id": "CTrGNzNtjZ4w",
        "outputId": "bd1733f4-5149-4000-80d1-cbd2b0d23099"
      },
      "execution_count": 24,
      "outputs": [
        {
          "output_type": "stream",
          "name": "stdout",
          "text": [
            "{'name': 'John', 'age': 25, 'city': 'New York'}\n"
          ]
        }
      ]
    },
    {
      "cell_type": "markdown",
      "source": [
        "22.  Write a code to add a new key-value pair \"country\": \"USA\" to the dictionary {'name': 'John', 'age': 25}."
      ],
      "metadata": {
        "id": "Vy5jIJMZjwse"
      }
    },
    {
      "cell_type": "code",
      "source": [
        "person = {'name': 'John', 'age': 25}\n",
        "person['country'] = 'USA'\n",
        "\n",
        "print(person)\n"
      ],
      "metadata": {
        "colab": {
          "base_uri": "https://localhost:8080/"
        },
        "id": "hepZXWnDj52r",
        "outputId": "035115f4-1f75-4c55-ed5b-d2442c240c64"
      },
      "execution_count": 25,
      "outputs": [
        {
          "output_type": "stream",
          "name": "stdout",
          "text": [
            "{'name': 'John', 'age': 25, 'country': 'USA'}\n"
          ]
        }
      ]
    },
    {
      "cell_type": "markdown",
      "source": [
        "23.  Write a code to access the value associated with the key \"name\" in the dictionary {'name': 'Alice', 'age': 30}"
      ],
      "metadata": {
        "id": "e3YeLc7XkDnj"
      }
    },
    {
      "cell_type": "code",
      "source": [
        "person = {'name': 'Alice', 'age': 30}\n",
        "name_value = person['name']\n",
        "\n",
        "print(name_value)\n"
      ],
      "metadata": {
        "colab": {
          "base_uri": "https://localhost:8080/"
        },
        "id": "c2_-Uo-KkIRF",
        "outputId": "ca95911a-49f9-40da-a2c3-8bd94ec731af"
      },
      "execution_count": 26,
      "outputs": [
        {
          "output_type": "stream",
          "name": "stdout",
          "text": [
            "Alice\n"
          ]
        }
      ]
    },
    {
      "cell_type": "markdown",
      "source": [
        "24.  Write a code to remove the key \"age\" from the dictionary {'name': 'Bob', 'age': 22, 'city': 'New York'}."
      ],
      "metadata": {
        "id": "79qs5qbikTya"
      }
    },
    {
      "cell_type": "code",
      "source": [
        "person = {'name': 'Bob', 'age': 22, 'city': 'New York'}\n",
        "del person['age']\n",
        "\n",
        "print(person)\n"
      ],
      "metadata": {
        "colab": {
          "base_uri": "https://localhost:8080/"
        },
        "id": "zNxWt23nkjmu",
        "outputId": "71f229ce-bb3f-4bb8-c461-a0f610ff9fa9"
      },
      "execution_count": 27,
      "outputs": [
        {
          "output_type": "stream",
          "name": "stdout",
          "text": [
            "{'name': 'Bob', 'city': 'New York'}\n"
          ]
        }
      ]
    },
    {
      "cell_type": "markdown",
      "source": [
        "25. 5. Write a code to check if the key \"city\" exists in the dictionary {'name': 'Alice', 'city': 'Paris'}."
      ],
      "metadata": {
        "id": "IiZhQ_ZwkuAQ"
      }
    },
    {
      "cell_type": "code",
      "source": [
        "person = {'name': 'Alice', 'city': 'Paris'}\n",
        "has_city = \"city\" in person\n",
        "\n",
        "print(has_city)\n"
      ],
      "metadata": {
        "colab": {
          "base_uri": "https://localhost:8080/"
        },
        "id": "DwLD05sHlKA5",
        "outputId": "2a50e324-5012-4be0-ee13-9434f724e2b6"
      },
      "execution_count": 29,
      "outputs": [
        {
          "output_type": "stream",
          "name": "stdout",
          "text": [
            "True\n"
          ]
        }
      ]
    },
    {
      "cell_type": "markdown",
      "source": [
        "26.  Write a code to create a list, a tuple, and a dictionary, and print them all"
      ],
      "metadata": {
        "id": "cl9Rs3J2lS7S"
      }
    },
    {
      "cell_type": "markdown",
      "source": [],
      "metadata": {
        "id": "5tn8H9dNje3T"
      }
    },
    {
      "cell_type": "code",
      "source": [
        "my_list = [1, 2, 3]\n",
        "my_tuple = ('a', 'b', 'c')\n",
        "\n",
        "my_dict = {'name': 'Alice', 'age': 30}\n",
        "\n",
        "print(\"List:\", my_list)\n",
        "print(\"Tuple:\", my_tuple)\n",
        "print(\"Dictionary:\", my_dict)"
      ],
      "metadata": {
        "colab": {
          "base_uri": "https://localhost:8080/"
        },
        "id": "Ivid94iSlYnl",
        "outputId": "22627d28-02b0-400d-a14d-5ba706a7b54e"
      },
      "execution_count": 32,
      "outputs": [
        {
          "output_type": "stream",
          "name": "stdout",
          "text": [
            "List: [1, 2, 3]\n",
            "Tuple: ('a', 'b', 'c')\n",
            "Dictionary: {'name': 'Alice', 'age': 30}\n"
          ]
        }
      ]
    },
    {
      "cell_type": "markdown",
      "source": [
        "27.  Write a code to create a list of 5 random numbers between 1 and 100, sort it in ascending order, and print the\n",
        "result.(replaced)"
      ],
      "metadata": {
        "id": "_Fq_Xc3_lttr"
      }
    },
    {
      "cell_type": "code",
      "source": [
        "import random\n",
        "random_numbers = random.sample(range(1, 101), 5)\n",
        "random_numbers.sort()\n",
        "\n",
        "print(random_numbers)\n"
      ],
      "metadata": {
        "colab": {
          "base_uri": "https://localhost:8080/"
        },
        "id": "z1MM4h9Jldbv",
        "outputId": "6af8a0ff-d39a-459f-f8be-183dae6f8216"
      },
      "execution_count": 33,
      "outputs": [
        {
          "output_type": "stream",
          "name": "stdout",
          "text": [
            "[43, 52, 75, 79, 93]\n"
          ]
        }
      ]
    },
    {
      "cell_type": "markdown",
      "source": [
        "28.  Write a code to create a list with strings and print the element at the third index."
      ],
      "metadata": {
        "id": "tm08L7BBmIMZ"
      }
    },
    {
      "cell_type": "code",
      "source": [
        "my_list = [\"apple\", \"banana\", \"cherry\", \"date\", \"fig\"]\n",
        "\n",
        "print(my_list[3])\n"
      ],
      "metadata": {
        "colab": {
          "base_uri": "https://localhost:8080/"
        },
        "id": "HHEAHsyZmFey",
        "outputId": "10101ea1-f512-4284-e4e5-6126fc0fa56c"
      },
      "execution_count": 34,
      "outputs": [
        {
          "output_type": "stream",
          "name": "stdout",
          "text": [
            "date\n"
          ]
        }
      ]
    },
    {
      "cell_type": "markdown",
      "source": [
        "29.  Write a code to combine two dictionaries into one and print the result.# Define two dictionaries"
      ],
      "metadata": {
        "id": "Q8XfGwiemUem"
      }
    },
    {
      "cell_type": "code",
      "source": [
        "dict1 = {'a': 1, 'b': 2}\n",
        "dict2 = {'c': 3, 'd': 4}\n",
        "combined_dict = dict1 | dict2\n",
        "\n",
        "print(combined_dict)\n"
      ],
      "metadata": {
        "colab": {
          "base_uri": "https://localhost:8080/"
        },
        "id": "-hsPPRYLmR6_",
        "outputId": "a234a297-4168-4d77-d6b9-adbc296b80ab"
      },
      "execution_count": 35,
      "outputs": [
        {
          "output_type": "stream",
          "name": "stdout",
          "text": [
            "{'a': 1, 'b': 2, 'c': 3, 'd': 4}\n"
          ]
        }
      ]
    },
    {
      "cell_type": "markdown",
      "source": [
        "30. Write a code to convert a list of strings into a set."
      ],
      "metadata": {
        "id": "7ys01ms3mlFi"
      }
    },
    {
      "cell_type": "code",
      "source": [
        "string_list = [\"apple\", \"banana\", \"apple\", \"cherry\", \"banana\"]\n",
        "string_set = set(string_list)\n",
        "\n",
        "print(string_set)\n"
      ],
      "metadata": {
        "colab": {
          "base_uri": "https://localhost:8080/"
        },
        "id": "YT7AKfabmhqL",
        "outputId": "1d5f7df4-c454-4271-8045-bb57c2428b64"
      },
      "execution_count": 36,
      "outputs": [
        {
          "output_type": "stream",
          "name": "stdout",
          "text": [
            "{'cherry', 'banana', 'apple'}\n"
          ]
        }
      ]
    }
  ]
}