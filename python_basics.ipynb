{
  "nbformat": 4,
  "nbformat_minor": 0,
  "metadata": {
    "colab": {
      "provenance": []
    },
    "kernelspec": {
      "name": "python3",
      "display_name": "Python 3"
    },
    "language_info": {
      "name": "python"
    }
  },
  "cells": [
    {
      "cell_type": "code",
      "execution_count": null,
      "metadata": {
        "id": "cOk78jiLyTVL"
      },
      "outputs": [],
      "source": []
    },
    {
      "cell_type": "markdown",
      "source": [
        "1. What is python,and why is it popular?\n",
        "  - Python is high level interpreted programming language known for its simplicity and readibility.It is popular because of the following\n",
        "   - Easy to learn\n",
        "   - A lot of libraries\n",
        "   - Widely used in the Industry\n",
        "   - Versability\n",
        "   - Huge active community\n",
        "   - Automation\n",
        "\n",
        "2. What is an interpreter in python?\n",
        "   - In python interpreter is a program that reads,translates converts the entire code into machine language and executes python code line by line.\n",
        "\n",
        "3. What are pre-defined keywords in python?\n",
        "   - Pre-defined keywords are placeholders where we keep variety of data which we can use to write logic they have a specific meaning in python.\n",
        "\n",
        "4. Can keywords be used as variable names?\n",
        "   - No keywords cannot be used as variable names because they have special predefined meaning in python\n",
        "\n",
        "5. What is mutability in python?\n",
        "   - Mutability refers to weather an objects value can be changed after it's created.\n",
        "\n",
        "6. Why are lists mutable,but tuples are immutable?\n",
        "   - lists are mutable because it is designed for dynamic data that needs to change like adding,removing and modifying elements\n",
        "   Tuples are immutable because it is designed to be fixed collections once we create them we can't change elements we can't add or remove something\n",
        "\n",
        "7. What is the difference between “==” and “is” operators in Python?\n",
        " - \"==\" means equality it checks do they have the same values?\n",
        "     \"is\" means identity it checks are they same object in memory?\n",
        "  \n",
        "8. What are logical operators in python?\n",
        "   -logical operators are used to combine conditional statements and return to a boolean result.\n",
        "\n",
        "9. What is type casting in python?\n",
        "   -The process of changing the data type of a value/object.\n",
        "\n",
        "10. What is the difference between implicit and explicit type casting?\n",
        "   - In implicit typecasting,python understand the datatype it happens automatically.\n",
        "   In explicit typecasting convert data types using inbuilt functions str,int,float,bool done by the programmer.\n",
        "\n",
        "11. What is the purpose of conditional statements in Python?\n",
        "    - Conditional statements generally allow the program to make decisions and perform different actions based on different inputs or situations.\n",
        "\n",
        "12. How does the elif statement work?\n",
        "    - The elif statement in python stands for \"else if\" it is used in conditional logic to check multiple conditions one by one,after the first if condition.\n",
        "\n",
        "13. What is the difference between for and while loops?\n",
        "    - For loop used when we know how many times we want to loop,we need to iterate over a sequence like list,string or range\n",
        "     meanwhile in while loop we dont know how many times the loop should run,it loops as long as loops is true.\n",
        "\n",
        "14. Describe a scenario where a while loop is more suitable than a for loop.\n",
        "    - Suppose I'm building a pushups counting app.The user starts doing pushups and presses stop button whenever they feel ready it could be 10 mins,30 mins\n",
        "     - We don,t know how long the user will doing pushups\n",
        "      - It's based on a condition not a fixed number of times so a while loop is perfect.\n",
        "\n",
        "      "
      ],
      "metadata": {
        "id": "5hzMJBXsz_U2"
      }
    },
    {
      "cell_type": "markdown",
      "source": [
        "# New section"
      ],
      "metadata": {
        "id": "dp8ZyBkHCKUr"
      }
    },
    {
      "cell_type": "markdown",
      "source": [
        "                                        PRACTICAL QUESTIONS\n",
        "1. Write a Python program to print \"Hello, World!\""
      ],
      "metadata": {
        "id": "ESLNK1ZjEciA"
      }
    },
    {
      "cell_type": "code",
      "source": [
        " print(\"Hello, world!\")"
      ],
      "metadata": {
        "colab": {
          "base_uri": "https://localhost:8080/"
        },
        "id": "wYhdQESpEZru",
        "outputId": "8be18c56-a698-4fe9-d900-be5d2049ccdc"
      },
      "execution_count": null,
      "outputs": [
        {
          "output_type": "stream",
          "name": "stdout",
          "text": [
            "Hello, world!\n"
          ]
        }
      ]
    },
    {
      "cell_type": "markdown",
      "source": [
        "2. Write a Python program that displays your name and age."
      ],
      "metadata": {
        "id": "oaKtNYTTGTRY"
      }
    },
    {
      "cell_type": "code",
      "source": [
        "print(\"my name is, Yuvraj chaudhary\")\n",
        "print(\"I'm 18 years old\")"
      ],
      "metadata": {
        "colab": {
          "base_uri": "https://localhost:8080/"
        },
        "id": "b7hZt4yKF8q8",
        "outputId": "806a9391-9c73-4698-e645-f9df5fae533d"
      },
      "execution_count": null,
      "outputs": [
        {
          "output_type": "stream",
          "name": "stdout",
          "text": [
            "my name is, Yuvraj chaudhary\n",
            "I'm 18 years old\n"
          ]
        }
      ]
    },
    {
      "cell_type": "markdown",
      "source": [
        "3. Write code to print all the pre-defined keywords in Python using the keyword library."
      ],
      "metadata": {
        "id": "xYr02yVjHA4B"
      }
    },
    {
      "cell_type": "code",
      "source": [
        "import keyword\n",
        "keywords_list=keyword.kwlist\n",
        "\n",
        "print(\"python keywords:\")\n",
        "for kwlist in keywords_list:\n",
        "  print (kwlist)"
      ],
      "metadata": {
        "colab": {
          "base_uri": "https://localhost:8080/"
        },
        "id": "vnhM4Z35HMwB",
        "outputId": "e64769e9-ce47-4373-933b-ca02325d90af"
      },
      "execution_count": null,
      "outputs": [
        {
          "output_type": "stream",
          "name": "stdout",
          "text": [
            "python keywords:\n",
            "False\n",
            "None\n",
            "True\n",
            "and\n",
            "as\n",
            "assert\n",
            "async\n",
            "await\n",
            "break\n",
            "class\n",
            "continue\n",
            "def\n",
            "del\n",
            "elif\n",
            "else\n",
            "except\n",
            "finally\n",
            "for\n",
            "from\n",
            "global\n",
            "if\n",
            "import\n",
            "in\n",
            "is\n",
            "lambda\n",
            "nonlocal\n",
            "not\n",
            "or\n",
            "pass\n",
            "raise\n",
            "return\n",
            "try\n",
            "while\n",
            "with\n",
            "yield\n"
          ]
        }
      ]
    },
    {
      "cell_type": "markdown",
      "source": [
        "4. Write a program that checks if a given word is a Python keyword."
      ],
      "metadata": {
        "id": "7BbF1HO1rAql"
      }
    },
    {
      "cell_type": "code",
      "source": [
        "import keyword\n",
        "word=input(\"Enter a word:\")\n",
        "if keyword.iskeyword(word):\n",
        "  print(f\"'{word}'is a python keyword.\")\n",
        "else:\n",
        "    print(f\"'{word}'is not a python keyword.\")"
      ],
      "metadata": {
        "colab": {
          "base_uri": "https://localhost:8080/"
        },
        "id": "fRw0POkVrF99",
        "outputId": "8f27fd3c-acaf-4489-a246-fab364d8a20b"
      },
      "execution_count": null,
      "outputs": [
        {
          "output_type": "stream",
          "name": "stdout",
          "text": [
            "Enter a word:pass\n",
            "'pass'is a python keyword.\n"
          ]
        }
      ]
    },
    {
      "cell_type": "markdown",
      "source": [
        "5. Create a list and tuple in Python, and demonstrate how attempting to change an element works differently for each."
      ],
      "metadata": {
        "id": "TaeO4iCUs2rk"
      }
    },
    {
      "cell_type": "code",
      "source": [
        " mylist = [10,20,30]\n",
        " mylist[1] = 100\n",
        "print(\"list:\",mylist)\n"
      ],
      "metadata": {
        "colab": {
          "base_uri": "https://localhost:8080/"
        },
        "id": "nd4bYHRf4PmD",
        "outputId": "dd5bb1dd-af6b-420c-f61f-d0a8f27b11d1"
      },
      "execution_count": null,
      "outputs": [
        {
          "output_type": "stream",
          "name": "stdout",
          "text": [
            "list: [10, 100, 30]\n"
          ]
        }
      ]
    },
    {
      "cell_type": "markdown",
      "source": [
        "It works because list is mutable-we can change,add or remove items"
      ],
      "metadata": {
        "id": "bkF_CZ3E6Nrh"
      }
    },
    {
      "cell_type": "code",
      "source": [
        "my_tuple = (10, 20, 30)\n",
        "print(\"Original Tuple:\", my_tuple)\n",
        "my_tuple[1] = 100\n"
      ],
      "metadata": {
        "colab": {
          "base_uri": "https://localhost:8080/",
          "height": 193
        },
        "id": "MZRs_CDq9-n2",
        "outputId": "3bf864f0-3b5f-48a4-dc27-39ff9ce353bf"
      },
      "execution_count": null,
      "outputs": [
        {
          "output_type": "stream",
          "name": "stdout",
          "text": [
            "Original Tuple: (10, 20, 30)\n"
          ]
        },
        {
          "output_type": "error",
          "ename": "TypeError",
          "evalue": "'tuple' object does not support item assignment",
          "traceback": [
            "\u001b[0;31m---------------------------------------------------------------------------\u001b[0m",
            "\u001b[0;31mTypeError\u001b[0m                                 Traceback (most recent call last)",
            "\u001b[0;32m<ipython-input-42-f02b93643046>\u001b[0m in \u001b[0;36m<cell line: 0>\u001b[0;34m()\u001b[0m\n\u001b[1;32m      1\u001b[0m \u001b[0mmy_tuple\u001b[0m \u001b[0;34m=\u001b[0m \u001b[0;34m(\u001b[0m\u001b[0;36m10\u001b[0m\u001b[0;34m,\u001b[0m \u001b[0;36m20\u001b[0m\u001b[0;34m,\u001b[0m \u001b[0;36m30\u001b[0m\u001b[0;34m)\u001b[0m\u001b[0;34m\u001b[0m\u001b[0;34m\u001b[0m\u001b[0m\n\u001b[1;32m      2\u001b[0m \u001b[0mprint\u001b[0m\u001b[0;34m(\u001b[0m\u001b[0;34m\"Original Tuple:\"\u001b[0m\u001b[0;34m,\u001b[0m \u001b[0mmy_tuple\u001b[0m\u001b[0;34m)\u001b[0m\u001b[0;34m\u001b[0m\u001b[0;34m\u001b[0m\u001b[0m\n\u001b[0;32m----> 3\u001b[0;31m \u001b[0mmy_tuple\u001b[0m\u001b[0;34m[\u001b[0m\u001b[0;36m1\u001b[0m\u001b[0;34m]\u001b[0m \u001b[0;34m=\u001b[0m \u001b[0;36m100\u001b[0m\u001b[0;34m\u001b[0m\u001b[0;34m\u001b[0m\u001b[0m\n\u001b[0m",
            "\u001b[0;31mTypeError\u001b[0m: 'tuple' object does not support item assignment"
          ]
        }
      ]
    },
    {
      "cell_type": "markdown",
      "source": [
        "Because tuples are immutable-once created you cant change their elements."
      ],
      "metadata": {
        "id": "kZ4FuAVE-55X"
      }
    },
    {
      "cell_type": "code",
      "source": [
        "# Function to change an integer (immutable)\n",
        "def change_number(x):\n",
        "    print(\"Before change:\", x)\n",
        "    x = 100\n",
        "    print(\"After change inside function:\", x)\n",
        "\n",
        "# Function to change a list (mutable)\n",
        "def change_list(lst):\n",
        "    print(\"Before change:\", lst)\n",
        "    lst[0] = \"Changed\"\n",
        "    print(\"After change inside function:\", lst)\n",
        "\n",
        "# Immutable Example\n",
        "num = 50\n",
        "print(\"\\n🔵 Immutable Example:\")\n",
        "change_number(num)\n",
        "print(\"Outside function:\", num)\n",
        "\n",
        "# Mutable Example\n",
        "my_list = [1, 2, 3]\n",
        "print(\"\\n🟢 Mutable Example:\")\n",
        "change_list(my_list)\n",
        "print(\"Outside function:\", my_list)\n"
      ],
      "metadata": {
        "id": "nzzVK1v9-V1L",
        "colab": {
          "base_uri": "https://localhost:8080/"
        },
        "outputId": "23d3d6e7-27f9-4e9a-f08b-2a95c7f3c089"
      },
      "execution_count": 2,
      "outputs": [
        {
          "output_type": "stream",
          "name": "stdout",
          "text": [
            "\n",
            "🔵 Immutable Example:\n",
            "Before change: 50\n",
            "After change inside function: 100\n",
            "Outside function: 50\n",
            "\n",
            "🟢 Mutable Example:\n",
            "Before change: [1, 2, 3]\n",
            "After change inside function: ['Changed', 2, 3]\n",
            "Outside function: ['Changed', 2, 3]\n"
          ]
        }
      ]
    },
    {
      "cell_type": "markdown",
      "source": [
        "6. Write a function to demonstrate the behavior of mutable and immutable arguments."
      ],
      "metadata": {
        "id": "rlgAvf6q_SoX"
      }
    },
    {
      "cell_type": "code",
      "source": [
        "# Basic Arithmetic Operations Program\n",
        "\n",
        "num1 = float(input(\"Enter first number: \"))\n",
        "num2 = float(input(\"Enter second number: \"))\n",
        "\n",
        "# Perform operations\n",
        "print(\"\\n--- Results ---\")\n",
        "print(\"Addition: \", num1 + num2)\n",
        "print(\"Subtraction: \", num1 - num2)\n",
        "print(\"Multiplication: \", num1 * num2)\n",
        "\n",
        "# Check for division by zero\n",
        "if num2 != 0:\n",
        "    print(\"Division: \", num1 / num2)\n",
        "else:\n",
        "    print(\"Division: Cannot divide by zero.\")\n"
      ],
      "metadata": {
        "colab": {
          "base_uri": "https://localhost:8080/"
        },
        "id": "UKoYwKqQvcVR",
        "outputId": "635c42bb-b734-4676-9a56-7884fb731bc7"
      },
      "execution_count": 1,
      "outputs": [
        {
          "output_type": "stream",
          "name": "stdout",
          "text": [
            "Enter first number: 50\n",
            "Enter second number: 15\n",
            "\n",
            "--- Results ---\n",
            "Addition:  65.0\n",
            "Subtraction:  35.0\n",
            "Multiplication:  750.0\n",
            "Division:  3.3333333333333335\n"
          ]
        }
      ]
    },
    {
      "cell_type": "markdown",
      "source": [
        "8. Write a program to demonstrate the use of logical operators."
      ],
      "metadata": {
        "id": "_PgBUsYfwmAs"
      }
    },
    {
      "cell_type": "code",
      "source": [
        "age = int(input(\"Enter your age: \"))\n",
        "has_permission = input(\"Do you have permission? (yes/no): \").lower()\n",
        "\n",
        "# Convert string to boolean\n",
        "permission = has_permission == \"yes\"\n",
        "\n",
        "# Logical operations\n",
        "print(\"\\n--- Logical Operations ---\")\n",
        "\n",
        "# Using 'and'\n",
        "if age >= 18 and permission:\n",
        "    print(\"Access granted (AND condition met).\")\n",
        "else:\n",
        "    print(\"Access denied (AND condition failed).\")\n",
        "\n",
        "# Using 'or'\n",
        "if age >= 18 or permission:\n",
        "    print(\"Partial access granted (OR condition met).\")\n",
        "else:\n",
        "    print(\"Access denied (OR condition failed).\")\n",
        "\n",
        "# Using 'not'\n",
        "if not permission:\n",
        "    print(\"No permission detected (NOT condition true).\")\n",
        "else:\n",
        "    print(\"Permission granted (NOT condition false).\")\n"
      ],
      "metadata": {
        "colab": {
          "base_uri": "https://localhost:8080/"
        },
        "id": "gdlvA0TYxMuX",
        "outputId": "c228fefa-1a28-4430-9e74-c97dc235c9d2"
      },
      "execution_count": 3,
      "outputs": [
        {
          "output_type": "stream",
          "name": "stdout",
          "text": [
            "Enter your age: 17\n",
            "Do you have permission? (yes/no): yes\n",
            "\n",
            "--- Logical Operations ---\n",
            "Access denied (AND condition failed).\n",
            "Partial access granted (OR condition met).\n",
            "Permission granted (NOT condition false).\n"
          ]
        }
      ]
    },
    {
      "cell_type": "markdown",
      "source": [
        "9. Write a Python program to convert user input from string to integer, float, and boolean types."
      ],
      "metadata": {
        "id": "x3IfwwFlyFDh"
      }
    },
    {
      "cell_type": "code",
      "source": [
        "user_input = input(\"Enter a value: \")\n",
        "\n",
        "# Convert to integer\n",
        "try:\n",
        "    int_value = int(user_input)\n",
        "    print(\"Integer:\", int_value)\n",
        "except ValueError:\n",
        "    print(\"Cannot convert to integer.\")\n",
        "\n",
        "# Convert to float\n",
        "try:\n",
        "    float_value = float(user_input)\n",
        "    print(\"Float:\", float_value)\n",
        "except ValueError:\n",
        "    print(\"Cannot convert to float.\")\n",
        "\n",
        "# Convert to boolean\n",
        "bool_value = bool(user_input)  # Empty string is False, anything else is True\n",
        "print(\"Boolean:\", bool_value)\n"
      ],
      "metadata": {
        "colab": {
          "base_uri": "https://localhost:8080/"
        },
        "id": "2NAh-ZZnyMPK",
        "outputId": "1cb41124-0544-428e-bb0e-9c0002370b09"
      },
      "execution_count": 4,
      "outputs": [
        {
          "output_type": "stream",
          "name": "stdout",
          "text": [
            "Enter a value: 100\n",
            "Integer: 100\n",
            "Float: 100.0\n",
            "Boolean: True\n"
          ]
        }
      ]
    },
    {
      "cell_type": "markdown",
      "source": [
        "10. Write code to demonstrate type casting with list elements."
      ],
      "metadata": {
        "id": "0T0Xv9JyyhSl"
      }
    },
    {
      "cell_type": "code",
      "source": [
        "# Type Casting with List Elements\n",
        "\n",
        "str_list = ['10', '20', '30', '40.5', '50']\n",
        "\n",
        "int_list = []\n",
        "for item in str_list:\n",
        "    try:\n",
        "        int_list.append(int(item))\n",
        "    except ValueError:\n",
        "        print(f\"Cannot convert '{item}' to integer.\")\n",
        "\n",
        "print(\"Integer List:\", int_list)\n",
        "\n",
        "float_list = [float(item) for item in str_list]\n",
        "print(\"Float List:\", float_list)\n"
      ],
      "metadata": {
        "colab": {
          "base_uri": "https://localhost:8080/"
        },
        "id": "Cq48c4egyjqu",
        "outputId": "68fb704a-9299-4776-e12b-6ab323e4e9a0"
      },
      "execution_count": 5,
      "outputs": [
        {
          "output_type": "stream",
          "name": "stdout",
          "text": [
            "Cannot convert '40.5' to integer.\n",
            "Integer List: [10, 20, 30, 50]\n",
            "Float List: [10.0, 20.0, 30.0, 40.5, 50.0]\n"
          ]
        }
      ]
    },
    {
      "cell_type": "markdown",
      "source": [
        "11.  Write a program that checks if a number is positive, negative, or zero."
      ],
      "metadata": {
        "id": "zX7-7W1fzCSE"
      }
    },
    {
      "cell_type": "code",
      "source": [
        "num = float(input(\"Enter a number: \"))\n",
        "if num > 0 :\n",
        "  print(\"Number is positive\")\n",
        "elif num < 0 :\n",
        "    print(\"Number is negative\")\n",
        "else :\n",
        "      print(\"Number is zero\")"
      ],
      "metadata": {
        "colab": {
          "base_uri": "https://localhost:8080/"
        },
        "id": "hiOfcPcizEUz",
        "outputId": "4b817db0-5579-4dc9-aa94-45a4af2e4925"
      },
      "execution_count": 7,
      "outputs": [
        {
          "output_type": "stream",
          "name": "stdout",
          "text": [
            "Enter a number: 25555\n",
            "Number is positive\n"
          ]
        }
      ]
    },
    {
      "cell_type": "markdown",
      "source": [
        "12.  Write a for loop to print numbers from 1 to 10."
      ],
      "metadata": {
        "id": "kwxc5-Qh0Ymk"
      }
    },
    {
      "cell_type": "code",
      "source": [
        "for i in range(1,11):\n",
        "  print(i)"
      ],
      "metadata": {
        "colab": {
          "base_uri": "https://localhost:8080/"
        },
        "id": "24F3AB_g0ar0",
        "outputId": "d070f6f9-6984-4747-ee2d-0943e9013cd6"
      },
      "execution_count": 14,
      "outputs": [
        {
          "output_type": "stream",
          "name": "stdout",
          "text": [
            "1\n",
            "2\n",
            "3\n",
            "4\n",
            "5\n",
            "6\n",
            "7\n",
            "8\n",
            "9\n",
            "10\n"
          ]
        }
      ]
    },
    {
      "cell_type": "markdown",
      "source": [
        "13.  Write a Python program to find the sum of all even numbers between 1 and 50."
      ],
      "metadata": {
        "id": "q60tNh2I1zIS"
      }
    },
    {
      "cell_type": "code",
      "source": [
        "even_sum = 0\n",
        "\n",
        "for num in range(1, 51):\n",
        "    if num % 2 == 0:\n",
        "        even_sum += num\n",
        "print(\"sum of even numbers from 1 to 50 is:\", even_sum)\n",
        "\n",
        ""
      ],
      "metadata": {
        "colab": {
          "base_uri": "https://localhost:8080/"
        },
        "id": "DCTBYloa11oJ",
        "outputId": "7b7290d7-714a-4242-8043-ad01d58d7f17"
      },
      "execution_count": 19,
      "outputs": [
        {
          "output_type": "stream",
          "name": "stdout",
          "text": [
            "sum of even numbers from 1 to 50 is: 650\n"
          ]
        }
      ]
    },
    {
      "cell_type": "markdown",
      "source": [
        "14. Write a program to reverse a string using a while loop."
      ],
      "metadata": {
        "id": "9eJW7Chh3eL-"
      }
    },
    {
      "cell_type": "code",
      "source": [
        "text = input(\"Enter a string: \")\n",
        "reversed_text = \"\"\n",
        "index = len(text) -1\n",
        "\n",
        "#Reverse using while loop\n",
        "\n",
        "while index >= 0:\n",
        "  reversed_text += text[index]\n",
        "  index -= 1\n",
        "print(\"Reversed string:\", reversed_text)"
      ],
      "metadata": {
        "colab": {
          "base_uri": "https://localhost:8080/"
        },
        "id": "GJJQ_Z5Y3gTJ",
        "outputId": "76bee3bd-a574-4c01-c10d-51379dc2cebc"
      },
      "execution_count": 25,
      "outputs": [
        {
          "output_type": "stream",
          "name": "stdout",
          "text": [
            "Enter a string: yuvraj chaudhary\n",
            "Reversed string: yrahduahc jarvuy\n"
          ]
        }
      ]
    },
    {
      "cell_type": "markdown",
      "source": [
        "15.  Write a Python program to calculate the factorial of a number provided by the user using a while loop."
      ],
      "metadata": {
        "id": "oa8o5Z-J72cs"
      }
    },
    {
      "cell_type": "code",
      "source": [
        "# Factorial using while loop\n",
        "\n",
        "num = int(input(\"Enter a non-negative integer: \"))\n",
        "\n",
        "factorial = 1\n",
        "n = num\n",
        "\n",
        "while n > 1:\n",
        "    factorial *= n\n",
        "    n -= 1\n",
        "print(f\"Factorial of {num} is: {factorial}\")\n"
      ],
      "metadata": {
        "colab": {
          "base_uri": "https://localhost:8080/"
        },
        "id": "-aqEDN-l75xC",
        "outputId": "f1a737a0-25aa-45c4-ed6d-9ba7f9dc4293"
      },
      "execution_count": 26,
      "outputs": [
        {
          "output_type": "stream",
          "name": "stdout",
          "text": [
            "Enter a non-negative integer: 25\n",
            "Factorial of 25 is: 15511210043330985984000000\n"
          ]
        }
      ]
    }
  ]
}